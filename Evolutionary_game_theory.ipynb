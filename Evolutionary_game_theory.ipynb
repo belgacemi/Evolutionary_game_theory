{
  "nbformat": 4,
  "nbformat_minor": 0,
  "metadata": {
    "colab": {
      "name": "Copie de Evolutionary game theory.ipynb",
      "provenance": [],
      "collapsed_sections": []
    },
    "kernelspec": {
      "name": "python3",
      "display_name": "Python 3"
    }
  },
  "cells": [
    {
      "cell_type": "markdown",
      "metadata": {
        "id": "SPPm7j2NcIk9",
        "colab_type": "text"
      },
      "source": [
        "###Evolutionary game theory\n",
        "Iheb Belgacem\n",
        "2A CS 2018/2019\n",
        "\n",
        "1. Evolutionary Stable Strategies (first approach)\n",
        "\n",
        "Let's assume we have initially a population of N cooperative ants. Cooperative ants defend their nest if attacked. <br />\n",
        "\n",
        "A mutation appears, we now have a small number of ants (proportion : x) that refuse to cooperate (that are selfish, that run away if the nest is under attack). <br />\n",
        "<BR>We want to know how the population mix between cooperative and selfish ants will evolve. (Will the mutation thrive or die out) \n",
        "This situation can be modeled by the Prisoner's dilemma with the following payoff Matrix : <br />\n",
        "<BR>\n",
        "\\begin{pmatrix} \n",
        "(2.2) & (0.3) \\\\\n",
        "(3.0) & (1.1) \n",
        "\\end{pmatrix}<br />\n",
        "<BR>\n",
        "  The first strategy is cooperate, the second is defect. To model the evolution of the population, we will match for each generation each ant randomly with an other ant. At the end of each cycle, the first N/2 with the highest payoffs will be able to replicate themselves (each will have two children and will die) the other half will die without having any descendant (The payoffs in EGT correspont to the Darwinian fitness ). <br /> We will study the evolution of x after m generations\n",
        "\n",
        "\n"
      ]
    },
    {
      "cell_type": "code",
      "metadata": {
        "id": "tkeU8-H9KTOq",
        "colab_type": "code",
        "colab": {}
      },
      "source": [
        "import numpy as np\n",
        "from matplotlib import pyplot as plt\n",
        "%matplotlib inline "
      ],
      "execution_count": 0,
      "outputs": []
    },
    {
      "cell_type": "code",
      "metadata": {
        "id": "Y4b_He0duGPi",
        "colab_type": "code",
        "colab": {}
      },
      "source": [
        "#define intial population\n",
        "def population1(nb,xi):\n",
        "  return np.concatenate((np.zeros(nb-round(nb*xi),dtype=int),np.ones(round(nb*xi),dtype=int)),axis=0)"
      ],
      "execution_count": 0,
      "outputs": []
    },
    {
      "cell_type": "code",
      "metadata": {
        "id": "ZkFFjYRUB9NH",
        "colab_type": "code",
        "colab": {}
      },
      "source": [
        "#define intial population (with a majority of selfish)\n",
        "def population2(nb,xi):\n",
        "  return np.concatenate((np.ones(nb-round(nb*xi),dtype=int),np.zeros(round(nb*xi),dtype=int)),axis=0)"
      ],
      "execution_count": 0,
      "outputs": []
    },
    {
      "cell_type": "code",
      "metadata": {
        "id": "WoPKPYRBgRvP",
        "colab_type": "code",
        "colab": {}
      },
      "source": [
        "#function that defines pairs of ants that we will match\n",
        "def matching(n):\n",
        "  a=np.arange(n)\n",
        "  b=np.random.permutation(a)\n",
        "  b=b[0:round(n/2)]\n",
        "  c=[]\n",
        "  for i in np.arange(n):\n",
        "    if (i in b)==False:\n",
        "      c.append(i)\n",
        "  d=np.array(c)\n",
        "  return b,d\n",
        "\n"
      ],
      "execution_count": 0,
      "outputs": []
    },
    {
      "cell_type": "code",
      "metadata": {
        "id": "oarCiARkTjrJ",
        "colab_type": "code",
        "colab": {}
      },
      "source": [
        "#function that defines payoff for each ant of the population\n",
        "def game(popul,payoffmatrix):\n",
        "  a1,a2=matching(len(popul))\n",
        "  po=np.zeros(len(popul),dtype=int)\n",
        "  for i,j in zip(a1,a2):\n",
        "    po[i]=po[i]+payoffmatrix[popul[i],popul[j]]\n",
        "    po[j]=po[j]+payoffmatrix[popul[j],popul[i]]\n",
        "  return po\n"
      ],
      "execution_count": 0,
      "outputs": []
    },
    {
      "cell_type": "code",
      "metadata": {
        "id": "lvGV2DRXsFiH",
        "colab_type": "code",
        "colab": {}
      },
      "source": [
        "#Function that creates new generations\n",
        "def newgeneration(popu,zz):\n",
        "  tab=[]\n",
        "  for i in range(len(popu)):\n",
        "    if zz[i]==3:\n",
        "      tab.append(popu[i])\n",
        "      tab.append(popu[i])\n",
        "      tab.append(popu[i])\n",
        " \n",
        "\n",
        "    elif zz[i]==2:\n",
        "      tab.append(popu[i])\n",
        "      tab.append(popu[i])\n",
        "    elif zz[i]==1:\n",
        "      tab.append(popu[i])\n",
        "  return np.array(tab)\n"
      ],
      "execution_count": 0,
      "outputs": []
    },
    {
      "cell_type": "code",
      "metadata": {
        "id": "tetHgmnevPQv",
        "colab_type": "code",
        "colab": {}
      },
      "source": [
        "#function that calculate rate of mutants \n",
        "def calculr(k):\n",
        "  return k.sum()/len(k)"
      ],
      "execution_count": 0,
      "outputs": []
    },
    {
      "cell_type": "code",
      "metadata": {
        "id": "WgX4vo5RH04r",
        "colab_type": "code",
        "outputId": "d01b3294-5ab3-4a63-9519-6d8e7b089777",
        "colab": {
          "base_uri": "https://localhost:8080/",
          "height": 312
        }
      },
      "source": [
        "#the payoff matrix will be recorded in a tupel\n",
        "pm=np.array([[2,0],[3,1]])\n",
        "N=1000 #Number of total population\n",
        "x0=0.2 #initial rate of mutants\n",
        "popu=population1(N,x0)#initial population\n",
        "times=20\n",
        "nbgenerations=[0]\n",
        "rates=[x0]\n",
        "for i in range(times):\n",
        "  popu=newgeneration(popu,game(popu,pm))\n",
        "  rates.append(calculr(popu))\n",
        "  nbgenerations.append(i+1)\n",
        "plt.plot(nbgenerations,rates)\n",
        "plt.title('Initial population : totally cooperative ants Mutation: selfish ants ')\n",
        "plt.xlabel('time/nb of iterations')\n",
        "plt.ylabel('rate of the mutants')"
      ],
      "execution_count": 0,
      "outputs": [
        {
          "output_type": "execute_result",
          "data": {
            "text/plain": [
              "Text(0, 0.5, 'rate of the mutants')"
            ]
          },
          "metadata": {
            "tags": []
          },
          "execution_count": 9
        },
        {
          "output_type": "display_data",
          "data": {
            "image/png": "[encoded data removed]",
            "text/plain": [
              "<Figure size 432x288 with 1 Axes>"
            ]
          },
          "metadata": {
            "tags": []
          }
        }
      ]
    },
    {
      "cell_type": "markdown",
      "metadata": {
        "id": "cFioLkQvyFqq",
        "colab_type": "text"
      },
      "source": [
        "According to this model a population that adopt a pure strategy of cooperation is not evolutionary stable, because the mutant strategy is able to invade the initial population\n",
        "Let's try with a initial population of selfish ants and make the exact same simulation"
      ]
    },
    {
      "cell_type": "code",
      "metadata": {
        "id": "W-Uvf0GkCqSW",
        "colab_type": "code",
        "outputId": "ae2f8804-6ebc-4ae5-e32b-4918d75c84b9",
        "colab": {
          "base_uri": "https://localhost:8080/",
          "height": 312
        }
      },
      "source": [
        "#the payoff matrix will be recorded in a tupel\n",
        "pm=np.array([[2,0],[3,1]])\n",
        "N=1000 #Number of total population\n",
        "x0=0.2 #initial rate of mutants\n",
        "popu=population2(N,x0)#initial population\n",
        "times=20\n",
        "nbgenerations=[0]\n",
        "rates=[x0]\n",
        "for i in range(times):\n",
        "  popu=newgeneration(popu,game(popu,pm))\n",
        "  rates.append(1-calculr(popu))\n",
        "  nbgenerations.append(i+1)\n",
        "plt.plot(nbgenerations,rates)\n",
        "plt.title('Initial population : totally selfish ants Mutation: cooperative ants ')\n",
        "plt.xlabel('time/nb of iterations')\n",
        "plt.ylabel('rate of the mutants')"
      ],
      "execution_count": 0,
      "outputs": [
        {
          "output_type": "execute_result",
          "data": {
            "text/plain": [
              "Text(0, 0.5, 'rate of the mutants')"
            ]
          },
          "metadata": {
            "tags": []
          },
          "execution_count": 10
        },
        {
          "output_type": "display_data",
          "data": {
            "image/png": "[encoded data removed]",
            "text/plain": [
              "<Figure size 432x288 with 1 Axes>"
            ]
          },
          "metadata": {
            "tags": []
          }
        }
      ]
    },
    {
      "cell_type": "markdown",
      "metadata": {
        "id": "Ej3DI-ovDovH",
        "colab_type": "text"
      },
      "source": [
        "According to this model a population that adopt a pure strategy of selfishness is  evolutionary stable , because the mutant strategy dies out very quickly"
      ]
    },
    {
      "cell_type": "markdown",
      "metadata": {
        "id": "yyNpbQv7sel8",
        "colab_type": "text"
      },
      "source": [
        "\n",
        "\n",
        "---\n",
        "\n",
        "##Hawk and Dove\n",
        "Hove and Dove is a classical example in Evolutionary Game Theory and can be used to simulate many real-world situation, like for example a contest over a sharable ressource. <br/>\n",
        "\n",
        "In this Game we have two different strategies for our players : \n",
        "<br/>\n",
        "\n",
        "*   '**HAWK**': When a player adopts this strategy, if there is a competition with another animal over a ressource, our player doesn't hesistate to engage in a fight until one of the players surrenders\n",
        "*   ‘**DOVE**’ On the opposite, Doves avoid conflicts and flee if a opponent wants to engage in a fight\n",
        "\n",
        "The Payoff Matrix for this game is the following (with strategy 1 representing Hawk , strategy 2 representig Dove): <br/> <br/>\n",
        "\\begin{pmatrix} \n",
        "((V-C)/2,(V-C)/2) & (V,0) \\\\\n",
        "(0,V) & (V/2,V/2) \n",
        "\\end{pmatrix}\n",
        "<br/>\n",
        "With:\n",
        "\n",
        "\n",
        "*   V = value of the ressource\n",
        "*   C = cost of the fight\n",
        "<br/>\n",
        "We want to find the Evolutionary stable strategies when V>C and When C>V\n",
        "\n"
      ]
    },
    {
      "cell_type": "code",
      "metadata": {
        "id": "3GBmXUQFwsc9",
        "colab_type": "code",
        "outputId": "a46bfa39-03b7-4b75-bfee-e9942fbf962e",
        "colab": {
          "base_uri": "https://localhost:8080/",
          "height": 68
        }
      },
      "source": [
        "#installing a library for Game theory\n",
        "pip install nashpy"
      ],
      "execution_count": 0,
      "outputs": [
        {
          "output_type": "stream",
          "text": [
            "Requirement already satisfied: nashpy in /usr/local/lib/python3.6/dist-packages (0.0.18)\n",
            "Requirement already satisfied: numpy>=1.12.1 in /usr/local/lib/python3.6/dist-packages (from nashpy) (1.16.3)\n",
            "Requirement already satisfied: scipy>=0.19.0 in /usr/local/lib/python3.6/dist-packages (from nashpy) (1.2.1)\n"
          ],
          "name": "stdout"
        }
      ]
    },
    {
      "cell_type": "code",
      "metadata": {
        "id": "zyw3fRuVwSfC",
        "colab_type": "code",
        "outputId": "4f05c389-2ec2-4c78-c364-67a626eceae2",
        "colab": {
          "base_uri": "https://localhost:8080/",
          "height": 170
        }
      },
      "source": [
        "import nashpy as nash\n",
        "from scipy.integrate import odeint\n",
        "import matplotlib.pyplot as plt\n",
        "%matplotlib inline\n",
        "import numpy as np\n",
        "#First Case : V>C\n",
        "V=20\n",
        "C=10\n",
        "#The payoff Matrix for player 1\n",
        "A=[[5,20],[0,10]]\n",
        "#The payoff Matrix for player 2\n",
        "B=[[5,0],[20,10]]\n",
        "#Let's find the nash equilibria for our Game because they are the potential ESS \n",
        "dh=nash.Game(A,B)\n",
        "dh\n"
      ],
      "execution_count": 0,
      "outputs": [
        {
          "output_type": "execute_result",
          "data": {
            "text/plain": [
              "Bi matrix game with payoff matrices:\n",
              "\n",
              "Row player:\n",
              "[[ 5 20]\n",
              " [ 0 10]]\n",
              "\n",
              "Column player:\n",
              "[[ 5  0]\n",
              " [20 10]]"
            ]
          },
          "metadata": {
            "tags": []
          },
          "execution_count": 12
        }
      ]
    },
    {
      "cell_type": "code",
      "metadata": {
        "id": "MJPRsl0Uyv77",
        "colab_type": "code",
        "outputId": "cabc772e-f99d-42ce-b1dc-dc2751be40c1",
        "colab": {
          "base_uri": "https://localhost:8080/",
          "height": 34
        }
      },
      "source": [
        "eqs=dh.support_enumeration()\n",
        "for eq in eqs:\n",
        "  print(eq)"
      ],
      "execution_count": 0,
      "outputs": [
        {
          "output_type": "stream",
          "text": [
            "(array([1., 0.]), array([1., 0.]))\n"
          ],
          "name": "stdout"
        }
      ]
    },
    {
      "cell_type": "markdown",
      "metadata": {
        "id": "HvDv9j8_zBZa",
        "colab_type": "text"
      },
      "source": [
        "The only nash equilibrium is a pure strategy Hawk <br/>\n",
        "\n",
        "The replicator dynamics equation (that tells us how the frequency of each strategy will evolve is given by ) <br/>\n",
        "$$dx_{i}/dt(t) = x_{i}(t)*((Ax)_{i}-x^T.A.x)$$  <br/>\n",
        "with $$x^T*A*x = average~fitness~of~the~population $$\n",
        "<br/>The replicator Equation rewards strategies that outperform the average\n",
        "by increasing their frequency, and penalizes poorly perform-\n",
        "ing strategies by decreasing their frequency.\n",
        "The Payoff of "
      ]
    },
    {
      "cell_type": "markdown",
      "metadata": {
        "id": "UNQNYKe_H1Ne",
        "colab_type": "text"
      },
      "source": [
        "$$dx_{1}/dt(t) = x_{1}(t)*((Ax)_{1}-x^T.A.x)$$ \n",
        "$$dx_{2}/dt(t) = x_{2}(t)*((Ax)_{2}-x^T.A.x)$$ "
      ]
    },
    {
      "cell_type": "code",
      "metadata": {
        "id": "KTOpe-qVzDmz",
        "colab_type": "code",
        "colab": {}
      },
      "source": [
        "def dxdt(x,t,A):\n",
        "  f1=np.dot(A,x) #the expected payoff\n",
        "  avg=np.dot(x,np.dot(A,x)) #the average fitness of the entire population\n",
        "  avgv=[avg,avg]\n",
        "  return x*(f1-avgv)\n",
        "  "
      ],
      "execution_count": 0,
      "outputs": []
    },
    {
      "cell_type": "code",
      "metadata": {
        "id": "YP1dKhVGIFv_",
        "colab_type": "code",
        "colab": {}
      },
      "source": [
        "def f(Y,A,t):\n",
        "    y1, y2 = Y\n",
        "    avg=np.dot(Y,np.dot(A,Y))\n",
        "    return [y1*np.dot(np.dot(A,Y),np.array([1,0],dtype=int)),y2*np.dot(np.dot(A,Y),np.array([0,1],dtype=int))]"
      ],
      "execution_count": 0,
      "outputs": []
    },
    {
      "cell_type": "code",
      "metadata": {
        "id": "r1mWVO4oJTIS",
        "colab_type": "code",
        "outputId": "414eec66-2abd-462a-c13d-059b2bdc987e",
        "colab": {
          "base_uri": "https://localhost:8080/",
          "height": 356
        }
      },
      "source": [
        "y1 = np.linspace(0,1,21)\n",
        "y2 = np.linspace(0,1,21)\n",
        "\n",
        "Y1, Y2 = np.meshgrid(y1, y2)\n",
        "\n",
        "t = 0\n",
        "\n",
        "u, v = np.zeros(Y1.shape), np.zeros(Y2.shape)\n",
        "\n",
        "NI, NJ = Y1.shape\n",
        "\n",
        "for i in range(NI):\n",
        "    for j in range(NJ):\n",
        "        x = Y1[i, j]\n",
        "        y = Y2[i, j]\n",
        "        yprime = f([x, y],A,t)\n",
        "        u[i,j] = yprime[0]\n",
        "        v[i,j] = yprime[1]\n",
        "     \n",
        "\n",
        "Q = plt.quiver(Y1, Y2, u, v, color='r')\n",
        "\n",
        "plt.xlabel('$y_1$')\n",
        "plt.ylabel('$y_2$')\n",
        "plt.xlim([0,1])\n",
        "plt.ylim([0,1])\n",
        "\n",
        "\n",
        "tspan = np.linspace(0, 50, 100)\n",
        "ys = odeint(func=f, y0=[0.9,0.1],t=tspan,args=(A,))\n",
        "plt.plot(ys[:,0], ys[:,1], 'b-') # path\n",
        "plt.plot([ys[0,0]], [ys[0,1]], 'o') # start\n",
        "plt.plot([ys[-1,0]], [ys[-1,1]], 's') # end"
      ],
      "execution_count": 0,
      "outputs": [
        {
          "output_type": "stream",
          "text": [
            "/usr/local/lib/python3.6/dist-packages/scipy/integrate/odepack.py:247: ODEintWarning: Excess work done on this call (perhaps wrong Dfun type). Run with full_output = 1 to get quantitative information.\n",
            "  warnings.warn(warning_msg, ODEintWarning)\n"
          ],
          "name": "stderr"
        },
        {
          "output_type": "execute_result",
          "data": {
            "text/plain": [
              "[<matplotlib.lines.Line2D at 0x7f10575c9128>]"
            ]
          },
          "metadata": {
            "tags": []
          },
          "execution_count": 16
        },
        {
          "output_type": "display_data",
          "data": {
            "image/png": "[encoded data removed]",
            "text/plain": [
              "<Figure size 432x288 with 1 Axes>"
            ]
          },
          "metadata": {
            "tags": []
          }
        }
      ]
    },
    {
      "cell_type": "code",
      "metadata": {
        "id": "PhjOeWK71rWk",
        "colab_type": "code",
        "outputId": "30a4d927-f01a-4fd1-fa80-c094ee08fe5c",
        "colab": {
          "base_uri": "https://localhost:8080/",
          "height": 300
        }
      },
      "source": [
        "t=np.linspace(0,1,100)\n",
        "xs=odeint(func=dxdt,y0=[0.25,0.75],t=t,args=(A,))\n",
        "plt.plot(xs);\n",
        "plt.xlabel('t')\n",
        "plt.ylabel('x1,x2=1-x1')"
      ],
      "execution_count": 0,
      "outputs": [
        {
          "output_type": "execute_result",
          "data": {
            "text/plain": [
              "Text(0, 0.5, 'x1,x2=1-x1')"
            ]
          },
          "metadata": {
            "tags": []
          },
          "execution_count": 16
        },
        {
          "output_type": "display_data",
          "data": {
            "image/png": "[encoded data removed]",
            "text/plain": [
              "<Figure size 432x288 with 1 Axes>"
            ]
          },
          "metadata": {
            "tags": []
          }
        }
      ]
    },
    {
      "cell_type": "code",
      "metadata": {
        "id": "0MkaAIPhDgUL",
        "colab_type": "code",
        "outputId": "a3a951f7-7ffe-4e99-c1eb-0c5c3f88d260",
        "colab": {
          "base_uri": "https://localhost:8080/",
          "height": 170
        }
      },
      "source": [
        "#Second Case : C>V\n",
        "V=10\n",
        "C=20\n",
        "#The payoff Matrix for player 1\n",
        "A=[[-5,10],[0,5]]\n",
        "#The payoff Matrix for player 2\n",
        "B=[[-5,0],[10,5]]\n",
        "#Let's find the nash equilibria for our Game because they are the potential ESS \n",
        "dh=nash.Game(A,B)\n",
        "dh\n"
      ],
      "execution_count": 0,
      "outputs": [
        {
          "output_type": "execute_result",
          "data": {
            "text/plain": [
              "Bi matrix game with payoff matrices:\n",
              "\n",
              "Row player:\n",
              "[[-5 10]\n",
              " [ 0  5]]\n",
              "\n",
              "Column player:\n",
              "[[-5  0]\n",
              " [10  5]]"
            ]
          },
          "metadata": {
            "tags": []
          },
          "execution_count": 17
        }
      ]
    },
    {
      "cell_type": "code",
      "metadata": {
        "id": "Li_-PYnkD45Z",
        "colab_type": "code",
        "outputId": "74974c1a-dbd3-42a0-c376-3cb85dde6d57",
        "colab": {
          "base_uri": "https://localhost:8080/",
          "height": 68
        }
      },
      "source": [
        "eqs=dh.support_enumeration()\n",
        "for eq in eqs:\n",
        "  print(eq)"
      ],
      "execution_count": 0,
      "outputs": [
        {
          "output_type": "stream",
          "text": [
            "(array([1., 0.]), array([0., 1.]))\n",
            "(array([0., 1.]), array([1., 0.]))\n",
            "(array([0.5, 0.5]), array([0.5, 0.5]))\n"
          ],
          "name": "stdout"
        }
      ]
    },
    {
      "cell_type": "markdown",
      "metadata": {
        "id": "A2o-JUzTGdQl",
        "colab_type": "text"
      },
      "source": [
        "We have 3 candidates for the ESS."
      ]
    },
    {
      "cell_type": "code",
      "metadata": {
        "id": "1Hy5H6FlD_wF",
        "colab_type": "code",
        "outputId": "6a7759f8-357d-4d00-dd2b-80ec3b8df79a",
        "colab": {
          "base_uri": "https://localhost:8080/",
          "height": 300
        }
      },
      "source": [
        "t=np.linspace(0,1,100)\n",
        "xs=odeint(func=dxdt,y0=[0.1,0.9],t=t,args=(A,))\n",
        "plt.plot(xs);\n",
        "plt.xlabel('t')\n",
        "plt.ylabel('x1,x2=1-x1')"
      ],
      "execution_count": 0,
      "outputs": [
        {
          "output_type": "execute_result",
          "data": {
            "text/plain": [
              "Text(0, 0.5, 'x1,x2=1-x1')"
            ]
          },
          "metadata": {
            "tags": []
          },
          "execution_count": 19
        },
        {
          "output_type": "display_data",
          "data": {
            "image/png": "[encoded data removed]",
            "text/plain": [
              "<Figure size 432x288 with 1 Axes>"
            ]
          },
          "metadata": {
            "tags": []
          }
        }
      ]
    },
    {
      "cell_type": "code",
      "metadata": {
        "id": "6vvZDCUMNns_",
        "colab_type": "code",
        "outputId": "69fac4eb-1622-471b-8235-83887428835a",
        "colab": {
          "base_uri": "https://localhost:8080/",
          "height": 88
        }
      },
      "source": [
        "y1 = np.linspace(0,1,11)\n",
        "y2 = np.linspace(0,1,11)\n",
        "\n",
        "Y1, Y2 = np.meshgrid(y1, y2)\n",
        "\n",
        "t = 0\n",
        "\n",
        "u, v = np.zeros(Y1.shape), np.zeros(Y2.shape)\n",
        "\n",
        "NI, NJ = Y1.shape\n",
        "\n",
        "for i in range(NI):\n",
        "    for j in range(NJ):\n",
        "        x = Y1[i, j]\n",
        "        y = Y2[i, j]\n",
        "        yprime = f([x, y],A,t)\n",
        "        u[i,j] = yprime[0]\n",
        "        v[i,j] = yprime[1]\n",
        "     \n",
        "Q = plt.quiver(Y1, Y2, u, v, color='r')\n",
        "\n",
        "plt.xlabel('$y_1$')\n",
        "plt.ylabel('$y_2$')\n",
        "plt.xlim([0, 1])\n",
        "plt.ylim([0, 1])\n",
        "\n",
        "\n",
        "tspan = np.linspace(0, 50, 200)\n",
        "ys = odeint(func=f, y0=[0.5,0.5],t=tspan,args=(A,))\n",
        "plt.plot(ys[:,0], ys[:,1], 'b-') # path\n",
        "plt.plot([ys[0,0]], [ys[0,1]], 'o') # start\n",
        "plt.plot([ys[-1,0]], [ys[-1,1]], 's') # end"
      ],
      "execution_count": 0,
      "outputs": [
        {
          "output_type": "stream",
          "text": [
            "/usr/local/lib/python3.6/dist-packages/scipy/integrate/odepack.py:247: ODEintWarning: Excess work done on this call (perhaps wrong Dfun type). Run with full_output = 1 to get quantitative information.\n",
            "  warnings.warn(warning_msg, ODEintWarning)\n"
          ],
          "name": "stderr"
        },
        {
          "output_type": "execute_result",
          "data": {
            "text/plain": [
              "[<matplotlib.lines.Line2D at 0x7fb25aea0198>]"
            ]
          },
          "metadata": {
            "tags": []
          },
          "execution_count": 20
        }
      ]
    }
  ]
}